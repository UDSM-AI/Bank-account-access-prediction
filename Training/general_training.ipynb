{
  "cells": [
    {
      "cell_type": "markdown",
      "metadata": {
        "id": "HdPjBTFdkI7t"
      },
      "source": [
        "### Importing libraries"
      ]
    },
    {
      "cell_type": "code",
      "execution_count": 1,
      "metadata": {
        "id": "8IWFJK2h22yc"
      },
      "outputs": [],
      "source": [
        "# dataframe and plotting\n",
        "import pandas as pd\n",
        "import numpy as np\n",
        "import seaborn as sns\n",
        "import matplotlib.pyplot as plt\n",
        "\n",
        "# machine learning\n",
        "from sklearn.model_selection import train_test_split\n",
        "from sklearn.metrics import accuracy_score, classification_report, confusion_matrix\n",
        "from sklearn.preprocessing import StandardScaler\n",
        "\n",
        "from sklearn.linear_model import LogisticRegression\n",
        "from sklearn.tree import DecisionTreeClassifier\n",
        "from sklearn.ensemble import RandomForestClassifier\n",
        "\n",
        "# xgboost\n",
        "import xgboost as xgb\n",
        "import lightgbm as lgb"
      ]
    },
    {
      "cell_type": "code",
      "execution_count": 2,
      "metadata": {},
      "outputs": [],
      "source": [
        "# oversampling techniques to handle imbalanced data\n",
        "from imblearn.over_sampling import RandomOverSampler as ROS\n",
        "from imblearn.under_sampling import RandomUnderSampler as RUS\n",
        "from collections import Counter"
      ]
    },
    {
      "cell_type": "code",
      "execution_count": 3,
      "metadata": {},
      "outputs": [],
      "source": [
        "from sklearn.preprocessing import LabelEncoder\n",
        "from sklearn.preprocessing import MinMaxScaler\n",
        "from sklearn.preprocessing import OneHotEncoder"
      ]
    },
    {
      "cell_type": "markdown",
      "metadata": {
        "id": "9SyQadB9iY8R"
      },
      "source": [
        "### 1. Load the dataset"
      ]
    },
    {
      "cell_type": "code",
      "execution_count": 4,
      "metadata": {
        "id": "MQCvC_XjDzyH"
      },
      "outputs": [],
      "source": [
        "# Load files into a pandas dataframe\n",
        "train = pd.read_csv('Train.csv')\n",
        "test = pd.read_csv('Test.csv')"
      ]
    },
    {
      "cell_type": "code",
      "execution_count": 5,
      "metadata": {},
      "outputs": [],
      "source": [
        "_train = train.copy()"
      ]
    },
    {
      "cell_type": "code",
      "execution_count": 6,
      "metadata": {
        "colab": {
          "base_uri": "https://localhost:8080/"
        },
        "id": "O6xUUoJMaRrc",
        "outputId": "37fa6d78-0297-4468-85e2-68e658ab6d7b"
      },
      "outputs": [
        {
          "name": "stdout",
          "output_type": "stream",
          "text": [
            "train data shape : (23524, 13)\n",
            "test data shape : (10086, 12)\n"
          ]
        }
      ],
      "source": [
        "# Let’s observe the shape of our datasets.\n",
        "print('train data shape :', train.shape)\n",
        "print('test data shape :', test.shape)"
      ]
    },
    {
      "cell_type": "code",
      "execution_count": 7,
      "metadata": {
        "colab": {
          "base_uri": "https://localhost:8080/",
          "height": 330
        },
        "id": "0p3FUgRYasI-",
        "outputId": "74d606e0-a4d3-47a7-c1f2-249bff16639e"
      },
      "outputs": [
        {
          "data": {
            "text/html": [
              "<div>\n",
              "<style scoped>\n",
              "    .dataframe tbody tr th:only-of-type {\n",
              "        vertical-align: middle;\n",
              "    }\n",
              "\n",
              "    .dataframe tbody tr th {\n",
              "        vertical-align: top;\n",
              "    }\n",
              "\n",
              "    .dataframe thead th {\n",
              "        text-align: right;\n",
              "    }\n",
              "</style>\n",
              "<table border=\"1\" class=\"dataframe\">\n",
              "  <thead>\n",
              "    <tr style=\"text-align: right;\">\n",
              "      <th></th>\n",
              "      <th>country</th>\n",
              "      <th>year</th>\n",
              "      <th>uniqueid</th>\n",
              "      <th>bank_account</th>\n",
              "      <th>location_type</th>\n",
              "      <th>cellphone_access</th>\n",
              "      <th>household_size</th>\n",
              "      <th>age_of_respondent</th>\n",
              "      <th>gender_of_respondent</th>\n",
              "      <th>relationship_with_head</th>\n",
              "      <th>marital_status</th>\n",
              "      <th>education_level</th>\n",
              "      <th>job_type</th>\n",
              "    </tr>\n",
              "  </thead>\n",
              "  <tbody>\n",
              "    <tr>\n",
              "      <th>0</th>\n",
              "      <td>Kenya</td>\n",
              "      <td>2018</td>\n",
              "      <td>uniqueid_1</td>\n",
              "      <td>Yes</td>\n",
              "      <td>Rural</td>\n",
              "      <td>Yes</td>\n",
              "      <td>3</td>\n",
              "      <td>24</td>\n",
              "      <td>Female</td>\n",
              "      <td>Spouse</td>\n",
              "      <td>Married/Living together</td>\n",
              "      <td>Secondary education</td>\n",
              "      <td>Self employed</td>\n",
              "    </tr>\n",
              "    <tr>\n",
              "      <th>1</th>\n",
              "      <td>Kenya</td>\n",
              "      <td>2018</td>\n",
              "      <td>uniqueid_2</td>\n",
              "      <td>No</td>\n",
              "      <td>Rural</td>\n",
              "      <td>No</td>\n",
              "      <td>5</td>\n",
              "      <td>70</td>\n",
              "      <td>Female</td>\n",
              "      <td>Head of Household</td>\n",
              "      <td>Widowed</td>\n",
              "      <td>No formal education</td>\n",
              "      <td>Government Dependent</td>\n",
              "    </tr>\n",
              "    <tr>\n",
              "      <th>2</th>\n",
              "      <td>Kenya</td>\n",
              "      <td>2018</td>\n",
              "      <td>uniqueid_3</td>\n",
              "      <td>Yes</td>\n",
              "      <td>Urban</td>\n",
              "      <td>Yes</td>\n",
              "      <td>5</td>\n",
              "      <td>26</td>\n",
              "      <td>Male</td>\n",
              "      <td>Other relative</td>\n",
              "      <td>Single/Never Married</td>\n",
              "      <td>Vocational/Specialised training</td>\n",
              "      <td>Self employed</td>\n",
              "    </tr>\n",
              "    <tr>\n",
              "      <th>3</th>\n",
              "      <td>Kenya</td>\n",
              "      <td>2018</td>\n",
              "      <td>uniqueid_4</td>\n",
              "      <td>No</td>\n",
              "      <td>Rural</td>\n",
              "      <td>Yes</td>\n",
              "      <td>5</td>\n",
              "      <td>34</td>\n",
              "      <td>Female</td>\n",
              "      <td>Head of Household</td>\n",
              "      <td>Married/Living together</td>\n",
              "      <td>Primary education</td>\n",
              "      <td>Formally employed Private</td>\n",
              "    </tr>\n",
              "    <tr>\n",
              "      <th>4</th>\n",
              "      <td>Kenya</td>\n",
              "      <td>2018</td>\n",
              "      <td>uniqueid_5</td>\n",
              "      <td>No</td>\n",
              "      <td>Urban</td>\n",
              "      <td>No</td>\n",
              "      <td>8</td>\n",
              "      <td>26</td>\n",
              "      <td>Male</td>\n",
              "      <td>Child</td>\n",
              "      <td>Single/Never Married</td>\n",
              "      <td>Primary education</td>\n",
              "      <td>Informally employed</td>\n",
              "    </tr>\n",
              "  </tbody>\n",
              "</table>\n",
              "</div>"
            ],
            "text/plain": [
              "  country  year    uniqueid bank_account location_type cellphone_access  \\\n",
              "0   Kenya  2018  uniqueid_1          Yes         Rural              Yes   \n",
              "1   Kenya  2018  uniqueid_2           No         Rural               No   \n",
              "2   Kenya  2018  uniqueid_3          Yes         Urban              Yes   \n",
              "3   Kenya  2018  uniqueid_4           No         Rural              Yes   \n",
              "4   Kenya  2018  uniqueid_5           No         Urban               No   \n",
              "\n",
              "   household_size  age_of_respondent gender_of_respondent  \\\n",
              "0               3                 24               Female   \n",
              "1               5                 70               Female   \n",
              "2               5                 26                 Male   \n",
              "3               5                 34               Female   \n",
              "4               8                 26                 Male   \n",
              "\n",
              "  relationship_with_head           marital_status  \\\n",
              "0                 Spouse  Married/Living together   \n",
              "1      Head of Household                  Widowed   \n",
              "2         Other relative     Single/Never Married   \n",
              "3      Head of Household  Married/Living together   \n",
              "4                  Child     Single/Never Married   \n",
              "\n",
              "                   education_level                   job_type  \n",
              "0              Secondary education              Self employed  \n",
              "1              No formal education       Government Dependent  \n",
              "2  Vocational/Specialised training              Self employed  \n",
              "3                Primary education  Formally employed Private  \n",
              "4                Primary education        Informally employed  "
            ]
          },
          "execution_count": 7,
          "metadata": {},
          "output_type": "execute_result"
        }
      ],
      "source": [
        "# inspect train data\n",
        "train.head()"
      ]
    },
    {
      "cell_type": "code",
      "execution_count": 8,
      "metadata": {
        "colab": {
          "base_uri": "https://localhost:8080/"
        },
        "id": "R1T_QbjNj0Dq",
        "outputId": "4f65aae1-c7d4-4546-ce33-15d40dd45585"
      },
      "outputs": [
        {
          "name": "stdout",
          "output_type": "stream",
          "text": [
            "missing values: country                   0\n",
            "year                      0\n",
            "uniqueid                  0\n",
            "bank_account              0\n",
            "location_type             0\n",
            "cellphone_access          0\n",
            "household_size            0\n",
            "age_of_respondent         0\n",
            "gender_of_respondent      0\n",
            "relationship_with_head    0\n",
            "marital_status            0\n",
            "education_level           0\n",
            "job_type                  0\n",
            "dtype: int64\n"
          ]
        }
      ],
      "source": [
        "# Check for missing values\n",
        "print('missing values:', train.isnull().sum())"
      ]
    },
    {
      "cell_type": "markdown",
      "metadata": {
        "id": "ID5N0vHTj3-F"
      },
      "source": [
        "We don't have missing data in our dataset.\n",
        "\n"
      ]
    },
    {
      "cell_type": "code",
      "execution_count": 9,
      "metadata": {
        "colab": {
          "base_uri": "https://localhost:8080/"
        },
        "id": "1otwZnE8bGns",
        "outputId": "d1761519-086f-4ffc-9f2e-e968611fe91c"
      },
      "outputs": [
        {
          "name": "stdout",
          "output_type": "stream",
          "text": [
            "<class 'pandas.core.frame.DataFrame'>\n",
            "RangeIndex: 23524 entries, 0 to 23523\n",
            "Data columns (total 13 columns):\n",
            " #   Column                  Non-Null Count  Dtype \n",
            "---  ------                  --------------  ----- \n",
            " 0   country                 23524 non-null  object\n",
            " 1   year                    23524 non-null  int64 \n",
            " 2   uniqueid                23524 non-null  object\n",
            " 3   bank_account            23524 non-null  object\n",
            " 4   location_type           23524 non-null  object\n",
            " 5   cellphone_access        23524 non-null  object\n",
            " 6   household_size          23524 non-null  int64 \n",
            " 7   age_of_respondent       23524 non-null  int64 \n",
            " 8   gender_of_respondent    23524 non-null  object\n",
            " 9   relationship_with_head  23524 non-null  object\n",
            " 10  marital_status          23524 non-null  object\n",
            " 11  education_level         23524 non-null  object\n",
            " 12  job_type                23524 non-null  object\n",
            "dtypes: int64(3), object(10)\n",
            "memory usage: 2.3+ MB\n",
            "None\n"
          ]
        }
      ],
      "source": [
        " #show some information about the dataset\n",
        " print(train.info())"
      ]
    },
    {
      "cell_type": "code",
      "execution_count": 10,
      "metadata": {},
      "outputs": [
        {
          "data": {
            "text/plain": [
              "Index(['country', 'year', 'uniqueid', 'bank_account', 'location_type',\n",
              "       'cellphone_access', 'household_size', 'age_of_respondent',\n",
              "       'gender_of_respondent', 'relationship_with_head', 'marital_status',\n",
              "       'education_level', 'job_type'],\n",
              "      dtype='object')"
            ]
          },
          "execution_count": 10,
          "metadata": {},
          "output_type": "execute_result"
        }
      ],
      "source": [
        "# use all columns except the target as features\n",
        "train.columns"
      ]
    },
    {
      "cell_type": "code",
      "execution_count": 11,
      "metadata": {
        "colab": {
          "base_uri": "https://localhost:8080/"
        },
        "id": "KDu51_TBceft",
        "outputId": "bc1a4302-34e9-4107-8a69-00d59e1f77d4"
      },
      "outputs": [],
      "source": [
        "# Convert target label to numerical Data\n",
        "le = LabelEncoder()\n",
        "train['bank_account'] = le.fit_transform(train['bank_account'])"
      ]
    },
    {
      "cell_type": "code",
      "execution_count": 12,
      "metadata": {},
      "outputs": [
        {
          "data": {
            "text/plain": [
              "array(['No', 'Yes'], dtype=object)"
            ]
          },
          "execution_count": 12,
          "metadata": {},
          "output_type": "execute_result"
        }
      ],
      "source": [
        "# preview the label classes\n",
        "le.classes_"
      ]
    },
    {
      "cell_type": "code",
      "execution_count": 13,
      "metadata": {},
      "outputs": [],
      "source": [
        "features = train.drop('bank_account', axis=1)\n",
        "labels = train['bank_account']"
      ]
    },
    {
      "cell_type": "code",
      "execution_count": 14,
      "metadata": {},
      "outputs": [
        {
          "data": {
            "text/html": [
              "<div>\n",
              "<style scoped>\n",
              "    .dataframe tbody tr th:only-of-type {\n",
              "        vertical-align: middle;\n",
              "    }\n",
              "\n",
              "    .dataframe tbody tr th {\n",
              "        vertical-align: top;\n",
              "    }\n",
              "\n",
              "    .dataframe thead th {\n",
              "        text-align: right;\n",
              "    }\n",
              "</style>\n",
              "<table border=\"1\" class=\"dataframe\">\n",
              "  <thead>\n",
              "    <tr style=\"text-align: right;\">\n",
              "      <th></th>\n",
              "      <th>country</th>\n",
              "      <th>year</th>\n",
              "      <th>uniqueid</th>\n",
              "      <th>location_type</th>\n",
              "      <th>cellphone_access</th>\n",
              "      <th>household_size</th>\n",
              "      <th>age_of_respondent</th>\n",
              "      <th>gender_of_respondent</th>\n",
              "      <th>relationship_with_head</th>\n",
              "      <th>marital_status</th>\n",
              "      <th>education_level</th>\n",
              "      <th>job_type</th>\n",
              "    </tr>\n",
              "  </thead>\n",
              "  <tbody>\n",
              "    <tr>\n",
              "      <th>0</th>\n",
              "      <td>Kenya</td>\n",
              "      <td>2018</td>\n",
              "      <td>uniqueid_1</td>\n",
              "      <td>Rural</td>\n",
              "      <td>Yes</td>\n",
              "      <td>3</td>\n",
              "      <td>24</td>\n",
              "      <td>Female</td>\n",
              "      <td>Spouse</td>\n",
              "      <td>Married/Living together</td>\n",
              "      <td>Secondary education</td>\n",
              "      <td>Self employed</td>\n",
              "    </tr>\n",
              "    <tr>\n",
              "      <th>1</th>\n",
              "      <td>Kenya</td>\n",
              "      <td>2018</td>\n",
              "      <td>uniqueid_2</td>\n",
              "      <td>Rural</td>\n",
              "      <td>No</td>\n",
              "      <td>5</td>\n",
              "      <td>70</td>\n",
              "      <td>Female</td>\n",
              "      <td>Head of Household</td>\n",
              "      <td>Widowed</td>\n",
              "      <td>No formal education</td>\n",
              "      <td>Government Dependent</td>\n",
              "    </tr>\n",
              "    <tr>\n",
              "      <th>2</th>\n",
              "      <td>Kenya</td>\n",
              "      <td>2018</td>\n",
              "      <td>uniqueid_3</td>\n",
              "      <td>Urban</td>\n",
              "      <td>Yes</td>\n",
              "      <td>5</td>\n",
              "      <td>26</td>\n",
              "      <td>Male</td>\n",
              "      <td>Other relative</td>\n",
              "      <td>Single/Never Married</td>\n",
              "      <td>Vocational/Specialised training</td>\n",
              "      <td>Self employed</td>\n",
              "    </tr>\n",
              "    <tr>\n",
              "      <th>3</th>\n",
              "      <td>Kenya</td>\n",
              "      <td>2018</td>\n",
              "      <td>uniqueid_4</td>\n",
              "      <td>Rural</td>\n",
              "      <td>Yes</td>\n",
              "      <td>5</td>\n",
              "      <td>34</td>\n",
              "      <td>Female</td>\n",
              "      <td>Head of Household</td>\n",
              "      <td>Married/Living together</td>\n",
              "      <td>Primary education</td>\n",
              "      <td>Formally employed Private</td>\n",
              "    </tr>\n",
              "    <tr>\n",
              "      <th>4</th>\n",
              "      <td>Kenya</td>\n",
              "      <td>2018</td>\n",
              "      <td>uniqueid_5</td>\n",
              "      <td>Urban</td>\n",
              "      <td>No</td>\n",
              "      <td>8</td>\n",
              "      <td>26</td>\n",
              "      <td>Male</td>\n",
              "      <td>Child</td>\n",
              "      <td>Single/Never Married</td>\n",
              "      <td>Primary education</td>\n",
              "      <td>Informally employed</td>\n",
              "    </tr>\n",
              "  </tbody>\n",
              "</table>\n",
              "</div>"
            ],
            "text/plain": [
              "  country  year    uniqueid location_type cellphone_access  household_size  \\\n",
              "0   Kenya  2018  uniqueid_1         Rural              Yes               3   \n",
              "1   Kenya  2018  uniqueid_2         Rural               No               5   \n",
              "2   Kenya  2018  uniqueid_3         Urban              Yes               5   \n",
              "3   Kenya  2018  uniqueid_4         Rural              Yes               5   \n",
              "4   Kenya  2018  uniqueid_5         Urban               No               8   \n",
              "\n",
              "   age_of_respondent gender_of_respondent relationship_with_head  \\\n",
              "0                 24               Female                 Spouse   \n",
              "1                 70               Female      Head of Household   \n",
              "2                 26                 Male         Other relative   \n",
              "3                 34               Female      Head of Household   \n",
              "4                 26                 Male                  Child   \n",
              "\n",
              "            marital_status                  education_level  \\\n",
              "0  Married/Living together              Secondary education   \n",
              "1                  Widowed              No formal education   \n",
              "2     Single/Never Married  Vocational/Specialised training   \n",
              "3  Married/Living together                Primary education   \n",
              "4     Single/Never Married                Primary education   \n",
              "\n",
              "                    job_type  \n",
              "0              Self employed  \n",
              "1       Government Dependent  \n",
              "2              Self employed  \n",
              "3  Formally employed Private  \n",
              "4        Informally employed  "
            ]
          },
          "execution_count": 14,
          "metadata": {},
          "output_type": "execute_result"
        }
      ],
      "source": [
        "features.head()"
      ]
    },
    {
      "cell_type": "code",
      "execution_count": 15,
      "metadata": {},
      "outputs": [
        {
          "name": "stdout",
          "output_type": "stream",
          "text": [
            "<class 'pandas.core.frame.DataFrame'>\n",
            "RangeIndex: 23524 entries, 0 to 23523\n",
            "Data columns (total 12 columns):\n",
            " #   Column                  Non-Null Count  Dtype \n",
            "---  ------                  --------------  ----- \n",
            " 0   country                 23524 non-null  object\n",
            " 1   year                    23524 non-null  int64 \n",
            " 2   uniqueid                23524 non-null  object\n",
            " 3   location_type           23524 non-null  object\n",
            " 4   cellphone_access        23524 non-null  object\n",
            " 5   household_size          23524 non-null  int64 \n",
            " 6   age_of_respondent       23524 non-null  int64 \n",
            " 7   gender_of_respondent    23524 non-null  object\n",
            " 8   relationship_with_head  23524 non-null  object\n",
            " 9   marital_status          23524 non-null  object\n",
            " 10  education_level         23524 non-null  object\n",
            " 11  job_type                23524 non-null  object\n",
            "dtypes: int64(3), object(9)\n",
            "memory usage: 2.2+ MB\n"
          ]
        }
      ],
      "source": [
        "features.info()"
      ]
    },
    {
      "cell_type": "code",
      "execution_count": 16,
      "metadata": {},
      "outputs": [
        {
          "data": {
            "text/plain": [
              "marital_status\n",
              "Married/Living together    10749\n",
              "Single/Never Married        7983\n",
              "Widowed                     2708\n",
              "Divorced/Seperated          2076\n",
              "Dont know                      8\n",
              "Name: count, dtype: int64"
            ]
          },
          "execution_count": 16,
          "metadata": {},
          "output_type": "execute_result"
        }
      ],
      "source": [
        "features['marital_status'].value_counts()"
      ]
    },
    {
      "cell_type": "code",
      "execution_count": 17,
      "metadata": {},
      "outputs": [
        {
          "data": {
            "text/plain": [
              "education_level\n",
              "Primary education                  12791\n",
              "No formal education                 4515\n",
              "Secondary education                 4223\n",
              "Tertiary education                  1157\n",
              "Vocational/Specialised training      803\n",
              "Other/Dont know/RTA                   35\n",
              "Name: count, dtype: int64"
            ]
          },
          "execution_count": 17,
          "metadata": {},
          "output_type": "execute_result"
        }
      ],
      "source": [
        "features['education_level'].value_counts()"
      ]
    },
    {
      "cell_type": "code",
      "execution_count": 18,
      "metadata": {},
      "outputs": [
        {
          "data": {
            "text/plain": [
              "relationship_with_head\n",
              "Head of Household      12831\n",
              "Spouse                  6520\n",
              "Child                   2229\n",
              "Parent                  1086\n",
              "Other relative           668\n",
              "Other non-relatives      190\n",
              "Name: count, dtype: int64"
            ]
          },
          "execution_count": 18,
          "metadata": {},
          "output_type": "execute_result"
        }
      ],
      "source": [
        "features['relationship_with_head'].value_counts()"
      ]
    },
    {
      "cell_type": "code",
      "execution_count": 19,
      "metadata": {},
      "outputs": [
        {
          "data": {
            "text/plain": [
              "job_type\n",
              "Self employed                   6437\n",
              "Informally employed             5597\n",
              "Farming and Fishing             5441\n",
              "Remittance Dependent            2527\n",
              "Other Income                    1080\n",
              "Formally employed Private       1055\n",
              "No Income                        627\n",
              "Formally employed Government     387\n",
              "Government Dependent             247\n",
              "Dont Know/Refuse to answer       126\n",
              "Name: count, dtype: int64"
            ]
          },
          "execution_count": 19,
          "metadata": {},
          "output_type": "execute_result"
        }
      ],
      "source": [
        "features['job_type'].value_counts()"
      ]
    },
    {
      "cell_type": "code",
      "execution_count": 20,
      "metadata": {},
      "outputs": [
        {
          "data": {
            "text/plain": [
              "location_type\n",
              "Rural    14343\n",
              "Urban     9181\n",
              "Name: count, dtype: int64"
            ]
          },
          "execution_count": 20,
          "metadata": {},
          "output_type": "execute_result"
        }
      ],
      "source": [
        "features['location_type'].value_counts()"
      ]
    },
    {
      "cell_type": "code",
      "execution_count": 21,
      "metadata": {},
      "outputs": [],
      "source": [
        "_features = features.copy()"
      ]
    },
    {
      "cell_type": "code",
      "execution_count": 22,
      "metadata": {},
      "outputs": [],
      "source": [
        "_features = _features.drop(['uniqueid'], axis=1)"
      ]
    },
    {
      "cell_type": "code",
      "execution_count": 23,
      "metadata": {},
      "outputs": [],
      "source": [
        "features_to_scale = ['household_size', 'age_of_respondent', 'year']\n",
        "\n",
        "scaler = MinMaxScaler()\n",
        "_features[features_to_scale] = scaler.fit_transform(features[features_to_scale])"
      ]
    },
    {
      "cell_type": "code",
      "execution_count": 24,
      "metadata": {},
      "outputs": [],
      "source": [
        "# save labelEncoder and scaler\n",
        "import pickle\n",
        "with open('labelEncoder.pkl', 'wb') as f:\n",
        "    pickle.dump(le, f)\n",
        "\n",
        "with open('scaler.pkl', 'wb') as f:\n",
        "    pickle.dump(scaler, f)"
      ]
    },
    {
      "cell_type": "code",
      "execution_count": 25,
      "metadata": {},
      "outputs": [
        {
          "data": {
            "text/plain": [
              "Index(['country', 'location_type', 'cellphone_access', 'gender_of_respondent',\n",
              "       'relationship_with_head', 'marital_status', 'education_level',\n",
              "       'job_type'],\n",
              "      dtype='object')"
            ]
          },
          "execution_count": 25,
          "metadata": {},
          "output_type": "execute_result"
        }
      ],
      "source": [
        "categorical_columns = _features.select_dtypes(include=['object']).columns\n",
        "categorical_columns"
      ]
    },
    {
      "cell_type": "code",
      "execution_count": 26,
      "metadata": {},
      "outputs": [],
      "source": [
        "# Initialize the OneHotEncoder\n",
        "encoder = OneHotEncoder(sparse=False, drop='first', dtype=int)"
      ]
    },
    {
      "cell_type": "code",
      "execution_count": 27,
      "metadata": {},
      "outputs": [
        {
          "name": "stderr",
          "output_type": "stream",
          "text": [
            "c:\\Users\\Edgar\\AppData\\Local\\Programs\\Python\\Python311\\Lib\\site-packages\\sklearn\\preprocessing\\_encoders.py:972: FutureWarning: `sparse` was renamed to `sparse_output` in version 1.2 and will be removed in 1.4. `sparse_output` is ignored unless you leave `sparse` to its default value.\n",
            "  warnings.warn(\n"
          ]
        }
      ],
      "source": [
        "# Fit and transform the training data\n",
        "_features_encoded = pd.DataFrame(\\\n",
        "    encoder.fit_transform(_features[categorical_columns]),\\\n",
        "    columns=encoder.get_feature_names_out(categorical_columns))"
      ]
    },
    {
      "cell_type": "code",
      "execution_count": 28,
      "metadata": {},
      "outputs": [
        {
          "data": {
            "text/html": [
              "<div>\n",
              "<style scoped>\n",
              "    .dataframe tbody tr th:only-of-type {\n",
              "        vertical-align: middle;\n",
              "    }\n",
              "\n",
              "    .dataframe tbody tr th {\n",
              "        vertical-align: top;\n",
              "    }\n",
              "\n",
              "    .dataframe thead th {\n",
              "        text-align: right;\n",
              "    }\n",
              "</style>\n",
              "<table border=\"1\" class=\"dataframe\">\n",
              "  <thead>\n",
              "    <tr style=\"text-align: right;\">\n",
              "      <th></th>\n",
              "      <th>country_Rwanda</th>\n",
              "      <th>country_Tanzania</th>\n",
              "      <th>country_Uganda</th>\n",
              "      <th>location_type_Urban</th>\n",
              "      <th>cellphone_access_Yes</th>\n",
              "      <th>gender_of_respondent_Male</th>\n",
              "      <th>relationship_with_head_Head of Household</th>\n",
              "      <th>relationship_with_head_Other non-relatives</th>\n",
              "      <th>relationship_with_head_Other relative</th>\n",
              "      <th>relationship_with_head_Parent</th>\n",
              "      <th>...</th>\n",
              "      <th>education_level_Vocational/Specialised training</th>\n",
              "      <th>job_type_Farming and Fishing</th>\n",
              "      <th>job_type_Formally employed Government</th>\n",
              "      <th>job_type_Formally employed Private</th>\n",
              "      <th>job_type_Government Dependent</th>\n",
              "      <th>job_type_Informally employed</th>\n",
              "      <th>job_type_No Income</th>\n",
              "      <th>job_type_Other Income</th>\n",
              "      <th>job_type_Remittance Dependent</th>\n",
              "      <th>job_type_Self employed</th>\n",
              "    </tr>\n",
              "  </thead>\n",
              "  <tbody>\n",
              "    <tr>\n",
              "      <th>0</th>\n",
              "      <td>0</td>\n",
              "      <td>0</td>\n",
              "      <td>0</td>\n",
              "      <td>0</td>\n",
              "      <td>1</td>\n",
              "      <td>0</td>\n",
              "      <td>0</td>\n",
              "      <td>0</td>\n",
              "      <td>0</td>\n",
              "      <td>0</td>\n",
              "      <td>...</td>\n",
              "      <td>0</td>\n",
              "      <td>0</td>\n",
              "      <td>0</td>\n",
              "      <td>0</td>\n",
              "      <td>0</td>\n",
              "      <td>0</td>\n",
              "      <td>0</td>\n",
              "      <td>0</td>\n",
              "      <td>0</td>\n",
              "      <td>1</td>\n",
              "    </tr>\n",
              "    <tr>\n",
              "      <th>1</th>\n",
              "      <td>0</td>\n",
              "      <td>0</td>\n",
              "      <td>0</td>\n",
              "      <td>0</td>\n",
              "      <td>0</td>\n",
              "      <td>0</td>\n",
              "      <td>1</td>\n",
              "      <td>0</td>\n",
              "      <td>0</td>\n",
              "      <td>0</td>\n",
              "      <td>...</td>\n",
              "      <td>0</td>\n",
              "      <td>0</td>\n",
              "      <td>0</td>\n",
              "      <td>0</td>\n",
              "      <td>1</td>\n",
              "      <td>0</td>\n",
              "      <td>0</td>\n",
              "      <td>0</td>\n",
              "      <td>0</td>\n",
              "      <td>0</td>\n",
              "    </tr>\n",
              "    <tr>\n",
              "      <th>2</th>\n",
              "      <td>0</td>\n",
              "      <td>0</td>\n",
              "      <td>0</td>\n",
              "      <td>1</td>\n",
              "      <td>1</td>\n",
              "      <td>1</td>\n",
              "      <td>0</td>\n",
              "      <td>0</td>\n",
              "      <td>1</td>\n",
              "      <td>0</td>\n",
              "      <td>...</td>\n",
              "      <td>1</td>\n",
              "      <td>0</td>\n",
              "      <td>0</td>\n",
              "      <td>0</td>\n",
              "      <td>0</td>\n",
              "      <td>0</td>\n",
              "      <td>0</td>\n",
              "      <td>0</td>\n",
              "      <td>0</td>\n",
              "      <td>1</td>\n",
              "    </tr>\n",
              "    <tr>\n",
              "      <th>3</th>\n",
              "      <td>0</td>\n",
              "      <td>0</td>\n",
              "      <td>0</td>\n",
              "      <td>0</td>\n",
              "      <td>1</td>\n",
              "      <td>0</td>\n",
              "      <td>1</td>\n",
              "      <td>0</td>\n",
              "      <td>0</td>\n",
              "      <td>0</td>\n",
              "      <td>...</td>\n",
              "      <td>0</td>\n",
              "      <td>0</td>\n",
              "      <td>0</td>\n",
              "      <td>1</td>\n",
              "      <td>0</td>\n",
              "      <td>0</td>\n",
              "      <td>0</td>\n",
              "      <td>0</td>\n",
              "      <td>0</td>\n",
              "      <td>0</td>\n",
              "    </tr>\n",
              "    <tr>\n",
              "      <th>4</th>\n",
              "      <td>0</td>\n",
              "      <td>0</td>\n",
              "      <td>0</td>\n",
              "      <td>1</td>\n",
              "      <td>0</td>\n",
              "      <td>1</td>\n",
              "      <td>0</td>\n",
              "      <td>0</td>\n",
              "      <td>0</td>\n",
              "      <td>0</td>\n",
              "      <td>...</td>\n",
              "      <td>0</td>\n",
              "      <td>0</td>\n",
              "      <td>0</td>\n",
              "      <td>0</td>\n",
              "      <td>0</td>\n",
              "      <td>1</td>\n",
              "      <td>0</td>\n",
              "      <td>0</td>\n",
              "      <td>0</td>\n",
              "      <td>0</td>\n",
              "    </tr>\n",
              "  </tbody>\n",
              "</table>\n",
              "<p>5 rows × 29 columns</p>\n",
              "</div>"
            ],
            "text/plain": [
              "   country_Rwanda  country_Tanzania  country_Uganda  location_type_Urban  \\\n",
              "0               0                 0               0                    0   \n",
              "1               0                 0               0                    0   \n",
              "2               0                 0               0                    1   \n",
              "3               0                 0               0                    0   \n",
              "4               0                 0               0                    1   \n",
              "\n",
              "   cellphone_access_Yes  gender_of_respondent_Male  \\\n",
              "0                     1                          0   \n",
              "1                     0                          0   \n",
              "2                     1                          1   \n",
              "3                     1                          0   \n",
              "4                     0                          1   \n",
              "\n",
              "   relationship_with_head_Head of Household  \\\n",
              "0                                         0   \n",
              "1                                         1   \n",
              "2                                         0   \n",
              "3                                         1   \n",
              "4                                         0   \n",
              "\n",
              "   relationship_with_head_Other non-relatives  \\\n",
              "0                                           0   \n",
              "1                                           0   \n",
              "2                                           0   \n",
              "3                                           0   \n",
              "4                                           0   \n",
              "\n",
              "   relationship_with_head_Other relative  relationship_with_head_Parent  ...  \\\n",
              "0                                      0                              0  ...   \n",
              "1                                      0                              0  ...   \n",
              "2                                      1                              0  ...   \n",
              "3                                      0                              0  ...   \n",
              "4                                      0                              0  ...   \n",
              "\n",
              "   education_level_Vocational/Specialised training  \\\n",
              "0                                                0   \n",
              "1                                                0   \n",
              "2                                                1   \n",
              "3                                                0   \n",
              "4                                                0   \n",
              "\n",
              "   job_type_Farming and Fishing  job_type_Formally employed Government  \\\n",
              "0                             0                                      0   \n",
              "1                             0                                      0   \n",
              "2                             0                                      0   \n",
              "3                             0                                      0   \n",
              "4                             0                                      0   \n",
              "\n",
              "   job_type_Formally employed Private  job_type_Government Dependent  \\\n",
              "0                                   0                              0   \n",
              "1                                   0                              1   \n",
              "2                                   0                              0   \n",
              "3                                   1                              0   \n",
              "4                                   0                              0   \n",
              "\n",
              "   job_type_Informally employed  job_type_No Income  job_type_Other Income  \\\n",
              "0                             0                   0                      0   \n",
              "1                             0                   0                      0   \n",
              "2                             0                   0                      0   \n",
              "3                             0                   0                      0   \n",
              "4                             1                   0                      0   \n",
              "\n",
              "   job_type_Remittance Dependent  job_type_Self employed  \n",
              "0                              0                       1  \n",
              "1                              0                       0  \n",
              "2                              0                       1  \n",
              "3                              0                       0  \n",
              "4                              0                       0  \n",
              "\n",
              "[5 rows x 29 columns]"
            ]
          },
          "execution_count": 28,
          "metadata": {},
          "output_type": "execute_result"
        }
      ],
      "source": [
        "_features_encoded.head()"
      ]
    },
    {
      "cell_type": "code",
      "execution_count": 29,
      "metadata": {},
      "outputs": [],
      "source": [
        "# Combine encoded features with non-categorical features\n",
        "_features_processed = pd.concat([_features.drop(columns=categorical_columns), _features_encoded], axis=1)\n"
      ]
    },
    {
      "cell_type": "code",
      "execution_count": 30,
      "metadata": {},
      "outputs": [],
      "source": [
        "_features_processed.head()\n",
        "_features = _features_processed"
      ]
    },
    {
      "cell_type": "code",
      "execution_count": 31,
      "metadata": {},
      "outputs": [],
      "source": [
        "# save the encoder\n",
        "with open('encoder.pkl', 'wb') as f:\n",
        "    pickle.dump(encoder, f)"
      ]
    },
    {
      "cell_type": "code",
      "execution_count": 32,
      "metadata": {},
      "outputs": [],
      "source": [
        "# under sample the majority class\n",
        "# rus = RUS(random_state=42)\n",
        "# _features, labels = rus.fit_resample(_features, labels)\n"
      ]
    },
    {
      "cell_type": "code",
      "execution_count": 33,
      "metadata": {},
      "outputs": [],
      "source": [
        "# overs ample the minority class\n",
        "# ros = ROS(random_state=42, sampling_strategy='minority')\n",
        "# _features_over, labels_over = ros.fit_resample(_features, labels)"
      ]
    },
    {
      "cell_type": "code",
      "execution_count": 34,
      "metadata": {},
      "outputs": [],
      "source": [
        "# _features = _features_over\n",
        "# labels = labels_over"
      ]
    },
    {
      "cell_type": "code",
      "execution_count": 35,
      "metadata": {},
      "outputs": [
        {
          "name": "stderr",
          "output_type": "stream",
          "text": [
            "c:\\Users\\Edgar\\AppData\\Local\\Programs\\Python\\Python311\\Lib\\site-packages\\seaborn\\axisgrid.py:118: UserWarning: The figure layout has changed to tight\n",
            "  self._figure.tight_layout(*args, **kwargs)\n"
          ]
        },
        {
          "data": {
            "text/plain": [
              "<seaborn.axisgrid.FacetGrid at 0x2554afba310>"
            ]
          },
          "execution_count": 35,
          "metadata": {},
          "output_type": "execute_result"
        },
        {
          "data": {
            "image/png": "[encoded data removed]",
            "text/plain": [
              "<Figure size 500x500 with 1 Axes>"
            ]
          },
          "metadata": {},
          "output_type": "display_data"
        }
      ],
      "source": [
        "# join _features and labels into a single dataframe\n",
        "_train_ = pd.concat([_features, labels], axis=1)\n",
        "sns.catplot(x=\"bank_account\", kind=\"count\", data=_train_)"
      ]
    },
    {
      "cell_type": "code",
      "execution_count": 36,
      "metadata": {},
      "outputs": [],
      "source": [
        "# split data into train and test sets\n",
        "X_train, X_test, y_train, y_test = train_test_split(_features, labels, test_size=0.2, random_state=42, stratify=labels)"
      ]
    },
    {
      "cell_type": "code",
      "execution_count": 37,
      "metadata": {},
      "outputs": [
        {
          "name": "stdout",
          "output_type": "stream",
          "text": [
            "X_train shape : (18819, 32)\n",
            "X_test shape : (4705, 32)\n"
          ]
        }
      ],
      "source": [
        "# check the shapes of the train and test sets\n",
        "print('X_train shape :', X_train.shape)\n",
        "print('X_test shape :', X_test.shape)"
      ]
    },
    {
      "cell_type": "code",
      "execution_count": 38,
      "metadata": {},
      "outputs": [
        {
          "name": "stdout",
          "output_type": "stream",
          "text": [
            "Logistic Regression classification report:\n",
            "               precision    recall  f1-score   support\n",
            "\n",
            "           0       0.90      0.98      0.94      4043\n",
            "           1       0.70      0.35      0.47       662\n",
            "\n",
            "    accuracy                           0.89      4705\n",
            "   macro avg       0.80      0.67      0.70      4705\n",
            "weighted avg       0.87      0.89      0.87      4705\n",
            "\n"
          ]
        }
      ],
      "source": [
        "# Logistic Regression\n",
        "log_reg = LogisticRegression(max_iter=1000)\n",
        "log_reg.fit(X_train, y_train)\n",
        "y_pred = log_reg.predict(X_test)\n",
        "print('Logistic Regression classification report:\\n', classification_report(y_test, y_pred))"
      ]
    },
    {
      "cell_type": "code",
      "execution_count": 68,
      "metadata": {},
      "outputs": [
        {
          "name": "stdout",
          "output_type": "stream",
          "text": [
            "Decision Tree classification report:\n",
            "               precision    recall  f1-score   support\n",
            "\n",
            "           0       0.99      0.98      0.98      4414\n",
            "           1       0.68      0.78      0.72       291\n",
            "\n",
            "    accuracy                           0.96      4705\n",
            "   macro avg       0.83      0.88      0.85      4705\n",
            "weighted avg       0.97      0.96      0.96      4705\n",
            "\n"
          ]
        },
        {
          "data": {
            "text/plain": [
              "<Axes: >"
            ]
          },
          "execution_count": 68,
          "metadata": {},
          "output_type": "execute_result"
        },
        {
          "data": {
            "image/png": "[encoded data removed]",
            "text/plain": [
              "<Figure size 1000x700 with 2 Axes>"
            ]
          },
          "metadata": {},
          "output_type": "display_data"
        }
      ],
      "source": [
        "# Decision Tree\n",
        "dt = DecisionTreeClassifier(\n",
        "    max_depth=10,\n",
        "    min_samples_split=0.01,\n",
        "    min_samples_leaf=0.01,\n",
        "    random_state=42,\n",
        "    criterion='entropy'\n",
        ")\n",
        "dt.fit(X_train, y_train)\n",
        "dt_y_pred = dt.predict(X_test)\n",
        "print('Decision Tree classification report:\\n', classification_report(dt_y_pred, y_pred))\n",
        "\n",
        "# confusion matrix\n",
        "plt.figure(figsize=(10, 7))\n",
        "sns.heatmap(confusion_matrix(dt_y_pred, y_pred), annot=True, fmt='d')"
      ]
    },
    {
      "cell_type": "code",
      "execution_count": 62,
      "metadata": {},
      "outputs": [
        {
          "name": "stdout",
          "output_type": "stream",
          "text": [
            "Random Forest classification report:\n",
            "               precision    recall  f1-score   support\n",
            "\n",
            "           0       0.94      0.98      0.96      4187\n",
            "           1       0.71      0.46      0.55       518\n",
            "\n",
            "    accuracy                           0.92      4705\n",
            "   macro avg       0.82      0.72      0.75      4705\n",
            "weighted avg       0.91      0.92      0.91      4705\n",
            "\n"
          ]
        },
        {
          "data": {
            "text/plain": [
              "<Axes: >"
            ]
          },
          "execution_count": 62,
          "metadata": {},
          "output_type": "execute_result"
        },
        {
          "data": {
            "image/png": "[encoded data removed]",
            "text/plain": [
              "<Figure size 1000x700 with 2 Axes>"
            ]
          },
          "metadata": {},
          "output_type": "display_data"
        }
      ],
      "source": [
        "# Random Forest\n",
        "rf = RandomForestClassifier()\n",
        "rf.fit(X_train, y_train)\n",
        "rf_y_pred = rf.predict(X_test)\n",
        "print('Random Forest classification report:\\n', classification_report(rf_y_pred, y_pred))\n",
        "\n",
        "# confusion matrix\n",
        "plt.figure(figsize=(10, 7))\n",
        "sns.heatmap(confusion_matrix(rf_y_pred, y_pred), annot=True, fmt='d')"
      ]
    },
    {
      "cell_type": "code",
      "execution_count": 41,
      "metadata": {},
      "outputs": [
        {
          "name": "stdout",
          "output_type": "stream",
          "text": [
            "XGBoost classification report:\n",
            "               precision    recall  f1-score   support\n",
            "\n",
            "           0       0.97      0.98      0.97      4309\n",
            "           1       0.76      0.64      0.70       396\n",
            "\n",
            "    accuracy                           0.95      4705\n",
            "   macro avg       0.86      0.81      0.84      4705\n",
            "weighted avg       0.95      0.95      0.95      4705\n",
            "\n"
          ]
        }
      ],
      "source": [
        "# XGBoost\n",
        "xgb_clf = xgb.XGBClassifier()\n",
        "xgb_clf.fit(X_train, y_train)\n",
        "xgb_y_pred = xgb_clf.predict(X_test)\n",
        "print('XGBoost classification report:\\n', classification_report(xgb_y_pred, y_pred))"
      ]
    },
    {
      "cell_type": "code",
      "execution_count": 54,
      "metadata": {},
      "outputs": [
        {
          "name": "stdout",
          "output_type": "stream",
          "text": [
            "[LightGBM] [Warning] Found whitespace in feature_names, replace with underlines\n",
            "[LightGBM] [Info] Number of positive: 2650, number of negative: 16169\n",
            "[LightGBM] [Info] Auto-choosing row-wise multi-threading, the overhead of testing was 0.002987 seconds.\n",
            "You can set `force_row_wise=true` to remove the overhead.\n",
            "And if memory is not enough, you can set `force_col_wise=true`.\n",
            "[LightGBM] [Info] Total Bins 159\n",
            "[LightGBM] [Info] Number of data points in the train set: 18819, number of used features: 31\n",
            "[LightGBM] [Info] [binary:BoostFromScore]: pavg=0.140815 -> initscore=-1.808536\n",
            "[LightGBM] [Info] Start training from score -1.808536\n",
            "LightGBM classification report:\n",
            "               precision    recall  f1-score   support\n",
            "\n",
            "           0       0.98      0.98      0.98      4346\n",
            "           1       0.78      0.72      0.75       359\n",
            "\n",
            "    accuracy                           0.96      4705\n",
            "   macro avg       0.88      0.85      0.87      4705\n",
            "weighted avg       0.96      0.96      0.96      4705\n",
            "\n"
          ]
        },
        {
          "data": {
            "text/plain": [
              "<Axes: >"
            ]
          },
          "execution_count": 54,
          "metadata": {},
          "output_type": "execute_result"
        },
        {
          "data": {
            "image/png": "[encoded data removed]",
            "text/plain": [
              "<Figure size 1000x700 with 2 Axes>"
            ]
          },
          "metadata": {},
          "output_type": "display_data"
        }
      ],
      "source": [
        "# LightGBM\n",
        "lgb_clf = lgb.LGBMClassifier()\n",
        "lgb_clf.fit(X_train, y_train)\n",
        "lgb_y_pred = lgb_clf.predict(X_test)\n",
        "print('LightGBM classification report:\\n', classification_report(lgb_y_pred, y_pred))\n",
        "\n",
        "# confusion matrix\n",
        "plt.figure(figsize=(10, 7))\n",
        "sns.heatmap(confusion_matrix(lgb_y_pred, y_pred), annot=True, fmt='d')"
      ]
    },
    {
      "cell_type": "code",
      "execution_count": 44,
      "metadata": {},
      "outputs": [],
      "source": [
        "def load_processors():\n",
        "    with open('encoder.pkl', 'rb') as f:\n",
        "        encoder = pickle.load(f)\n",
        "\n",
        "    with open('scaler.pkl', 'rb') as f:\n",
        "        scaler = pickle.load(f)\n",
        "\n",
        "    return encoder, scaler\n",
        "\n",
        "def process_new_data(new_data):\n",
        "    encoder, scaler = load_processors()\n",
        "    try:\n",
        "        new_data = new_data.drop(['uniqueid'], axis=1)\n",
        "    except:\n",
        "        pass\n",
        "\n",
        "    features_to_scale = ['household_size', 'age_of_respondent', 'year']\n",
        "    categorical_columns = ['country', 'location_type', 'cellphone_access', 'gender_of_respondent', 'relationship_with_head', 'marital_status', 'education_level', 'job_type']\n",
        "\n",
        "    # Transform the new data using the saved encoder\n",
        "    new_data_encoded = pd.DataFrame(encoder.transform(new_data[categorical_columns]),\n",
        "                                    columns=encoder.get_feature_names_out(categorical_columns))\n",
        "\n",
        "    # Combine encoded features with non-categorical features\n",
        "    new_data_processed = pd.concat([new_data.drop(columns=categorical_columns), new_data_encoded], axis=1)\n",
        "\n",
        "    return new_data_processed"
      ]
    },
    {
      "cell_type": "code",
      "execution_count": 45,
      "metadata": {},
      "outputs": [
        {
          "name": "stdout",
          "output_type": "stream",
          "text": [
            "(1, 11)\n"
          ]
        },
        {
          "data": {
            "text/html": [
              "<div>\n",
              "<style scoped>\n",
              "    .dataframe tbody tr th:only-of-type {\n",
              "        vertical-align: middle;\n",
              "    }\n",
              "\n",
              "    .dataframe tbody tr th {\n",
              "        vertical-align: top;\n",
              "    }\n",
              "\n",
              "    .dataframe thead th {\n",
              "        text-align: right;\n",
              "    }\n",
              "</style>\n",
              "<table border=\"1\" class=\"dataframe\">\n",
              "  <thead>\n",
              "    <tr style=\"text-align: right;\">\n",
              "      <th></th>\n",
              "      <th>country</th>\n",
              "      <th>year</th>\n",
              "      <th>location_type</th>\n",
              "      <th>cellphone_access</th>\n",
              "      <th>household_size</th>\n",
              "      <th>age_of_respondent</th>\n",
              "      <th>gender_of_respondent</th>\n",
              "      <th>relationship_with_head</th>\n",
              "      <th>marital_status</th>\n",
              "      <th>education_level</th>\n",
              "      <th>job_type</th>\n",
              "    </tr>\n",
              "  </thead>\n",
              "  <tbody>\n",
              "    <tr>\n",
              "      <th>0</th>\n",
              "      <td>Kenya</td>\n",
              "      <td>2018</td>\n",
              "      <td>Rural</td>\n",
              "      <td>Yes</td>\n",
              "      <td>3</td>\n",
              "      <td>24</td>\n",
              "      <td>Female</td>\n",
              "      <td>Spouse</td>\n",
              "      <td>Married/Living together</td>\n",
              "      <td>Secondary education</td>\n",
              "      <td>Self employed</td>\n",
              "    </tr>\n",
              "  </tbody>\n",
              "</table>\n",
              "</div>"
            ],
            "text/plain": [
              "  country  year location_type cellphone_access  household_size  \\\n",
              "0   Kenya  2018         Rural              Yes               3   \n",
              "\n",
              "   age_of_respondent gender_of_respondent relationship_with_head  \\\n",
              "0                 24               Female                 Spouse   \n",
              "\n",
              "            marital_status      education_level       job_type  \n",
              "0  Married/Living together  Secondary education  Self employed  "
            ]
          },
          "execution_count": 45,
          "metadata": {},
          "output_type": "execute_result"
        }
      ],
      "source": [
        "_dt = train.head(1).drop(['uniqueid', 'bank_account'], axis=1)\n",
        "print(_dt.shape)\n",
        "_dt"
      ]
    },
    {
      "cell_type": "code",
      "execution_count": 46,
      "metadata": {},
      "outputs": [
        {
          "data": {
            "text/html": [
              "<div>\n",
              "<style scoped>\n",
              "    .dataframe tbody tr th:only-of-type {\n",
              "        vertical-align: middle;\n",
              "    }\n",
              "\n",
              "    .dataframe tbody tr th {\n",
              "        vertical-align: top;\n",
              "    }\n",
              "\n",
              "    .dataframe thead th {\n",
              "        text-align: right;\n",
              "    }\n",
              "</style>\n",
              "<table border=\"1\" class=\"dataframe\">\n",
              "  <thead>\n",
              "    <tr style=\"text-align: right;\">\n",
              "      <th></th>\n",
              "      <th>year</th>\n",
              "      <th>household_size</th>\n",
              "      <th>age_of_respondent</th>\n",
              "      <th>country_Rwanda</th>\n",
              "      <th>country_Tanzania</th>\n",
              "      <th>country_Uganda</th>\n",
              "      <th>location_type_Urban</th>\n",
              "      <th>cellphone_access_Yes</th>\n",
              "      <th>gender_of_respondent_Male</th>\n",
              "      <th>relationship_with_head_Head of Household</th>\n",
              "      <th>...</th>\n",
              "      <th>education_level_Vocational/Specialised training</th>\n",
              "      <th>job_type_Farming and Fishing</th>\n",
              "      <th>job_type_Formally employed Government</th>\n",
              "      <th>job_type_Formally employed Private</th>\n",
              "      <th>job_type_Government Dependent</th>\n",
              "      <th>job_type_Informally employed</th>\n",
              "      <th>job_type_No Income</th>\n",
              "      <th>job_type_Other Income</th>\n",
              "      <th>job_type_Remittance Dependent</th>\n",
              "      <th>job_type_Self employed</th>\n",
              "    </tr>\n",
              "  </thead>\n",
              "  <tbody>\n",
              "    <tr>\n",
              "      <th>0</th>\n",
              "      <td>2018</td>\n",
              "      <td>3</td>\n",
              "      <td>24</td>\n",
              "      <td>0</td>\n",
              "      <td>0</td>\n",
              "      <td>0</td>\n",
              "      <td>0</td>\n",
              "      <td>1</td>\n",
              "      <td>0</td>\n",
              "      <td>0</td>\n",
              "      <td>...</td>\n",
              "      <td>0</td>\n",
              "      <td>0</td>\n",
              "      <td>0</td>\n",
              "      <td>0</td>\n",
              "      <td>0</td>\n",
              "      <td>0</td>\n",
              "      <td>0</td>\n",
              "      <td>0</td>\n",
              "      <td>0</td>\n",
              "      <td>1</td>\n",
              "    </tr>\n",
              "  </tbody>\n",
              "</table>\n",
              "<p>1 rows × 32 columns</p>\n",
              "</div>"
            ],
            "text/plain": [
              "   year  household_size  age_of_respondent  country_Rwanda  country_Tanzania  \\\n",
              "0  2018               3                 24               0                 0   \n",
              "\n",
              "   country_Uganda  location_type_Urban  cellphone_access_Yes  \\\n",
              "0               0                    0                     1   \n",
              "\n",
              "   gender_of_respondent_Male  relationship_with_head_Head of Household  ...  \\\n",
              "0                          0                                         0  ...   \n",
              "\n",
              "   education_level_Vocational/Specialised training  \\\n",
              "0                                                0   \n",
              "\n",
              "   job_type_Farming and Fishing  job_type_Formally employed Government  \\\n",
              "0                             0                                      0   \n",
              "\n",
              "   job_type_Formally employed Private  job_type_Government Dependent  \\\n",
              "0                                   0                              0   \n",
              "\n",
              "   job_type_Informally employed  job_type_No Income  job_type_Other Income  \\\n",
              "0                             0                   0                      0   \n",
              "\n",
              "   job_type_Remittance Dependent  job_type_Self employed  \n",
              "0                              0                       1  \n",
              "\n",
              "[1 rows x 32 columns]"
            ]
          },
          "execution_count": 46,
          "metadata": {},
          "output_type": "execute_result"
        }
      ],
      "source": [
        "__dt_processed = process_new_data(_dt)\n",
        "__dt_processed"
      ]
    },
    {
      "cell_type": "code",
      "execution_count": 47,
      "metadata": {},
      "outputs": [
        {
          "data": {
            "text/plain": [
              "array([1])"
            ]
          },
          "execution_count": 47,
          "metadata": {},
          "output_type": "execute_result"
        }
      ],
      "source": [
        "prediction = lgb_clf.predict(__dt_processed.values)\n",
        "prediction"
      ]
    },
    {
      "cell_type": "code",
      "execution_count": 48,
      "metadata": {},
      "outputs": [
        {
          "name": "stderr",
          "output_type": "stream",
          "text": [
            "C:\\Users\\Edgar\\AppData\\Local\\Temp\\ipykernel_2872\\2060291392.py:1: UserWarning: Pandas doesn't allow columns to be created via a new attribute name - see https://pandas.pydata.org/pandas-docs/stable/indexing.html#attribute-access\n",
            "  test.bank_account = lgb_clf.predict(process_new_data(test))\n"
          ]
        }
      ],
      "source": [
        "test.bank_account = lgb_clf.predict(process_new_data(test))"
      ]
    },
    {
      "cell_type": "code",
      "execution_count": 49,
      "metadata": {},
      "outputs": [],
      "source": [
        "# Create submission DataFrame\n",
        "submission = pd.DataFrame(\n",
        "    {\n",
        "        \"uniqueid\": test[\"uniqueid\"] + \" x \" + test[\"country\"],\n",
        "        \"bank_account\": test.bank_account\n",
        "    }\n",
        ")\n",
        "# Create submission csv file csv file\n",
        "submission.to_csv('sampled_submission.csv', index = False)"
      ]
    }
  ],
  "metadata": {
    "colab": {
      "collapsed_sections": [],
      "name": "StarterNotebook.ipynb",
      "provenance": [],
      "toc_visible": true
    },
    "kernelspec": {
      "display_name": "Python 3",
      "language": "python",
      "name": "python3"
    },
    "language_info": {
      "codemirror_mode": {
        "name": "ipython",
        "version": 3
      },
      "file_extension": ".py",
      "mimetype": "text/x-python",
      "name": "python",
      "nbconvert_exporter": "python",
      "pygments_lexer": "ipython3",
      "version": "3.11.4"
    }
  },
  "nbformat": 4,
  "nbformat_minor": 0
}
